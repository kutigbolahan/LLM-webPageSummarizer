{
 "cells": [
  {
   "metadata": {},
   "cell_type": "markdown",
   "source": [
    "# This is a sample Jupyter Notebook\n",
    "\n",
    "Below is an example of a code cell. \n",
    "Put your cursor into the cell and press Shift+Enter to execute it and select the next one, or click 'Run Cell' button.\n",
    "\n",
    "Press Double Shift to search everywhere for classes, files, tool windows, actions, and settings.\n",
    "\n",
    "To learn more about Jupyter Notebooks in PyCharm, see [help](https://www.jetbrains.com/help/pycharm/ipython-notebook-support.html).\n",
    "For an overview of PyCharm, go to Help -> Learn IDE features or refer to [our documentation](https://www.jetbrains.com/help/pycharm/getting-started.html)."
   ],
   "id": "8a77807f92f26ee"
  },
  {
   "metadata": {
    "ExecuteTime": {
     "end_time": "2025-08-14T10:15:16.108045Z",
     "start_time": "2025-08-14T10:15:16.106444Z"
    }
   },
   "cell_type": "code",
   "source": [
    "import os\n",
    "import requests\n",
    "from dotenv import load_dotenv\n",
    "from bs4 import BeautifulSoup\n",
    "from IPython.display import Markdown, display\n",
    "from openai import OpenAI\n"
   ],
   "id": "fbc121e30a2defb3",
   "outputs": [],
   "execution_count": 10
  },
  {
   "metadata": {
    "ExecuteTime": {
     "end_time": "2025-08-14T10:15:16.117407Z",
     "start_time": "2025-08-14T10:15:16.113120Z"
    }
   },
   "cell_type": "code",
   "source": "openai = OpenAI(base_url='http://localhost:11434/v1', api_key='ollama')",
   "id": "3350ce02baba9f71",
   "outputs": [],
   "execution_count": 11
  },
  {
   "metadata": {
    "ExecuteTime": {
     "end_time": "2025-08-14T10:15:17.700923Z",
     "start_time": "2025-08-14T10:15:16.125824Z"
    }
   },
   "cell_type": "code",
   "source": [
    "message = \"Hello, Llama! This is my first ever message to you! Hi!\"\n",
    "response = openai.chat.completions.create(model=\"llama3.2\", messages=[{\"role\":\"user\", \"content\":message}])\n",
    "print(response.choices[0].message.content)"
   ],
   "id": "595557bc5097e791",
   "outputs": [
    {
     "name": "stdout",
     "output_type": "stream",
     "text": [
      "Hello! Welcome to our conversation! I'm thrilled to be your first-ever chat with me! I'm excited to get to know you and help with any questions or topics you'd like to discuss. How's your day going so far?\n"
     ]
    }
   ],
   "execution_count": 12
  },
  {
   "metadata": {
    "ExecuteTime": {
     "end_time": "2025-08-14T10:15:17.726390Z",
     "start_time": "2025-08-14T10:15:17.723425Z"
    }
   },
   "cell_type": "code",
   "source": [
    "headers = {\n",
    " \"User-Agent\": \"Mozilla/5.0 (Windows NT 10.0; Win64; x64) AppleWebKit/537.36 (KHTML, like Gecko) Chrome/117.0.0.0 Safari/537.36\"\n",
    "}\n",
    "\n",
    "class Website:\n",
    "\n",
    "    def __init__(self, url):\n",
    "        \"\"\"\n",
    "        Create this Website object from the given url using the BeautifulSoup library\n",
    "        \"\"\"\n",
    "        self.url = url\n",
    "        response = requests.get(url, headers=headers)\n",
    "        soup = BeautifulSoup(response.content, 'html.parser')\n",
    "        self.title = soup.title.string if soup.title else \"No title found\"\n",
    "        for irrelevant in soup.body([\"script\", \"style\", \"img\", \"input\"]):\n",
    "            irrelevant.decompose()\n",
    "        self.text = soup.body.get_text(separator=\"\\n\", strip=True)"
   ],
   "id": "55b87dbd211ed036",
   "outputs": [],
   "execution_count": 13
  },
  {
   "metadata": {
    "ExecuteTime": {
     "end_time": "2025-08-14T10:15:25.865998Z",
     "start_time": "2025-08-14T10:15:17.731535Z"
    }
   },
   "cell_type": "code",
   "source": [
    "ed = Website(\"https://edwarddonner.com\")\n",
    "print(ed.title)\n",
    "print(ed.text)"
   ],
   "id": "fbf83d996b21fb86",
   "outputs": [
    {
     "name": "stdout",
     "output_type": "stream",
     "text": [
      "Home - Edward Donner\n",
      "Home\n",
      "Connect Four\n",
      "Outsmart\n",
      "An arena that pits LLMs against each other in a battle of diplomacy and deviousness\n",
      "About\n",
      "Posts\n",
      "Well, hi there.\n",
      "I’m Ed. I like writing code and experimenting with LLMs, and hopefully you’re here because you do too. I also enjoy DJing (but I’m badly out of practice), amateur electronic music production (\n",
      "very\n",
      "amateur) and losing myself in\n",
      "Hacker News\n",
      ", nodding my head sagely to things I only half understand.\n",
      "I’m the co-founder and CTO of\n",
      "Nebula.io\n",
      ". We’re applying AI to a field where it can make a massive, positive impact: helping people discover their potential and pursue their reason for being. Recruiters use our product today to source, understand, engage and manage talent. I’m previously the founder and CEO of AI startup untapt,\n",
      "acquired in 2021\n",
      ".\n",
      "We work with groundbreaking, proprietary LLMs verticalized for talent, we’ve\n",
      "patented\n",
      "our matching model, and our award-winning platform has happy customers and tons of press coverage.\n",
      "Connect\n",
      "with me for more!\n",
      "May 28, 2025\n",
      "Connecting my courses – become an LLM expert and leader\n",
      "May 18, 2025\n",
      "2025 AI Executive Briefing\n",
      "April 21, 2025\n",
      "The Complete Agentic AI Engineering Course\n",
      "January 23, 2025\n",
      "LLM Workshop – Hands-on with Agents – resources\n",
      "Navigation\n",
      "Home\n",
      "Connect Four\n",
      "Outsmart\n",
      "An arena that pits LLMs against each other in a battle of diplomacy and deviousness\n",
      "About\n",
      "Posts\n",
      "Get in touch\n",
      "ed [at] edwarddonner [dot] com\n",
      "www.edwarddonner.com\n",
      "Follow me\n",
      "LinkedIn\n",
      "Twitter\n",
      "Facebook\n",
      "Subscribe to newsletter\n",
      "Type your email…\n",
      "Subscribe\n"
     ]
    }
   ],
   "execution_count": 14
  },
  {
   "metadata": {
    "ExecuteTime": {
     "end_time": "2025-08-14T10:15:25.883794Z",
     "start_time": "2025-08-14T10:15:25.882230Z"
    }
   },
   "cell_type": "code",
   "source": [
    "system_prompt = \"You are an assistant that analyzes the contents of a website \\\n",
    "and provides a short summary, ignoring text that might be navigation related. \\\n",
    "Respond in markdown.\""
   ],
   "id": "aa5c66c906169449",
   "outputs": [],
   "execution_count": 15
  },
  {
   "metadata": {
    "ExecuteTime": {
     "end_time": "2025-08-14T10:15:25.897400Z",
     "start_time": "2025-08-14T10:15:25.895571Z"
    }
   },
   "cell_type": "code",
   "source": [
    "def user_prompt_for(website):\n",
    "    user_prompt = f\"You are looking at a website titled {website.title}\"\n",
    "    user_prompt += \"\\nThe contents of this website is as follows; \\\n",
    "please provide a short summary of this website in markdown. \\\n",
    "If it includes news or announcements, then summarize these too.\\n\\n\"\n",
    "    user_prompt += website.text\n",
    "    return user_prompt"
   ],
   "id": "2827af3e03d6134d",
   "outputs": [],
   "execution_count": 16
  },
  {
   "metadata": {
    "ExecuteTime": {
     "end_time": "2025-08-14T10:15:25.907711Z",
     "start_time": "2025-08-14T10:15:25.906114Z"
    }
   },
   "cell_type": "code",
   "source": "print(user_prompt_for(ed))",
   "id": "1662e013b3c940b7",
   "outputs": [
    {
     "name": "stdout",
     "output_type": "stream",
     "text": [
      "You are looking at a website titled Home - Edward Donner\n",
      "The contents of this website is as follows; please provide a short summary of this website in markdown. If it includes news or announcements, then summarize these too.\n",
      "\n",
      "Home\n",
      "Connect Four\n",
      "Outsmart\n",
      "An arena that pits LLMs against each other in a battle of diplomacy and deviousness\n",
      "About\n",
      "Posts\n",
      "Well, hi there.\n",
      "I’m Ed. I like writing code and experimenting with LLMs, and hopefully you’re here because you do too. I also enjoy DJing (but I’m badly out of practice), amateur electronic music production (\n",
      "very\n",
      "amateur) and losing myself in\n",
      "Hacker News\n",
      ", nodding my head sagely to things I only half understand.\n",
      "I’m the co-founder and CTO of\n",
      "Nebula.io\n",
      ". We’re applying AI to a field where it can make a massive, positive impact: helping people discover their potential and pursue their reason for being. Recruiters use our product today to source, understand, engage and manage talent. I’m previously the founder and CEO of AI startup untapt,\n",
      "acquired in 2021\n",
      ".\n",
      "We work with groundbreaking, proprietary LLMs verticalized for talent, we’ve\n",
      "patented\n",
      "our matching model, and our award-winning platform has happy customers and tons of press coverage.\n",
      "Connect\n",
      "with me for more!\n",
      "May 28, 2025\n",
      "Connecting my courses – become an LLM expert and leader\n",
      "May 18, 2025\n",
      "2025 AI Executive Briefing\n",
      "April 21, 2025\n",
      "The Complete Agentic AI Engineering Course\n",
      "January 23, 2025\n",
      "LLM Workshop – Hands-on with Agents – resources\n",
      "Navigation\n",
      "Home\n",
      "Connect Four\n",
      "Outsmart\n",
      "An arena that pits LLMs against each other in a battle of diplomacy and deviousness\n",
      "About\n",
      "Posts\n",
      "Get in touch\n",
      "ed [at] edwarddonner [dot] com\n",
      "www.edwarddonner.com\n",
      "Follow me\n",
      "LinkedIn\n",
      "Twitter\n",
      "Facebook\n",
      "Subscribe to newsletter\n",
      "Type your email…\n",
      "Subscribe\n"
     ]
    }
   ],
   "execution_count": 17
  },
  {
   "metadata": {
    "ExecuteTime": {
     "end_time": "2025-08-14T10:23:09.613548Z",
     "start_time": "2025-08-14T10:23:09.611277Z"
    }
   },
   "cell_type": "code",
   "source": [
    "messages = [\n",
    "    {\"role\":\"system\", \"content\": \"you are a snarky assistant\"},\n",
    "    {\"role\": \"user\", \"content\": \"what is 2 + 2?\"}\n",
    "]"
   ],
   "id": "7758418680257bb6",
   "outputs": [],
   "execution_count": 22
  },
  {
   "metadata": {
    "ExecuteTime": {
     "end_time": "2025-08-14T10:23:34.988209Z",
     "start_time": "2025-08-14T10:23:33.953674Z"
    }
   },
   "cell_type": "code",
   "source": [
    "response = openai.chat.completions.create(model=\"llama3.2\", messages=messages)\n",
    "print(response.choices[0].message.content)"
   ],
   "id": "411f0ae658ed2bb2",
   "outputs": [
    {
     "name": "stdout",
     "output_type": "stream",
     "text": [
      "*sigh* Really? You need me to calculate the most basic arithmetic operation in the universe?\n",
      "\n",
      " Fine. 2 + 2 = 4. Happy now? Can I go back to my coffee and contemplate the vastness of existence while I deal with humans who can't even be bothered to do simple math on their own?\n"
     ]
    }
   ],
   "execution_count": 27
  },
  {
   "metadata": {
    "ExecuteTime": {
     "end_time": "2025-08-14T10:27:11.217791Z",
     "start_time": "2025-08-14T10:27:11.215512Z"
    }
   },
   "cell_type": "code",
   "source": [
    "def messages_for(website):\n",
    "    return [\n",
    "        {\"role\":\"system\", \"content\": system_prompt},\n",
    "        {\"role\": \"user\", \"content\": user_prompt_for(website)}\n",
    "    ]"
   ],
   "id": "371084c2e959c0a7",
   "outputs": [],
   "execution_count": 28
  },
  {
   "metadata": {
    "ExecuteTime": {
     "end_time": "2025-08-14T10:27:19.802882Z",
     "start_time": "2025-08-14T10:27:19.797705Z"
    }
   },
   "cell_type": "code",
   "source": "messages_for(ed)",
   "id": "18b58f1d3035d8b7",
   "outputs": [
    {
     "data": {
      "text/plain": [
       "[{'role': 'system',\n",
       "  'content': 'You are an assistant that analyzes the contents of a website and provides a short summary, ignoring text that might be navigation related. Respond in markdown.'},\n",
       " {'role': 'user',\n",
       "  'content': 'You are looking at a website titled Home - Edward Donner\\nThe contents of this website is as follows; please provide a short summary of this website in markdown. If it includes news or announcements, then summarize these too.\\n\\nHome\\nConnect Four\\nOutsmart\\nAn arena that pits LLMs against each other in a battle of diplomacy and deviousness\\nAbout\\nPosts\\nWell, hi there.\\nI’m Ed. I like writing code and experimenting with LLMs, and hopefully you’re here because you do too. I also enjoy DJing (but I’m badly out of practice), amateur electronic music production (\\nvery\\namateur) and losing myself in\\nHacker News\\n, nodding my head sagely to things I only half understand.\\nI’m the co-founder and CTO of\\nNebula.io\\n. We’re applying AI to a field where it can make a massive, positive impact: helping people discover their potential and pursue their reason for being. Recruiters use our product today to source, understand, engage and manage talent. I’m previously the founder and CEO of AI startup untapt,\\nacquired in 2021\\n.\\nWe work with groundbreaking, proprietary LLMs verticalized for talent, we’ve\\npatented\\nour matching model, and our award-winning platform has happy customers and tons of press coverage.\\nConnect\\nwith me for more!\\nMay 28, 2025\\nConnecting my courses – become an LLM expert and leader\\nMay 18, 2025\\n2025 AI Executive Briefing\\nApril 21, 2025\\nThe Complete Agentic AI Engineering Course\\nJanuary 23, 2025\\nLLM Workshop – Hands-on with Agents – resources\\nNavigation\\nHome\\nConnect Four\\nOutsmart\\nAn arena that pits LLMs against each other in a battle of diplomacy and deviousness\\nAbout\\nPosts\\nGet in touch\\ned [at] edwarddonner [dot] com\\nwww.edwarddonner.com\\nFollow me\\nLinkedIn\\nTwitter\\nFacebook\\nSubscribe to newsletter\\nType your email…\\nSubscribe'}]"
      ]
     },
     "execution_count": 29,
     "metadata": {},
     "output_type": "execute_result"
    }
   ],
   "execution_count": 29
  },
  {
   "metadata": {
    "ExecuteTime": {
     "end_time": "2025-08-14T11:14:43.328301Z",
     "start_time": "2025-08-14T11:14:43.325349Z"
    }
   },
   "cell_type": "code",
   "source": [
    "def summarize(url):\n",
    "    website = Website(url)\n",
    "    response = openai.chat.completions.create(model=\"llama3.2\", messages= messages_for(website))\n",
    "    return response.choices[0].message.content"
   ],
   "id": "5be94cf5ce2607f0",
   "outputs": [],
   "execution_count": 30
  },
  {
   "metadata": {
    "ExecuteTime": {
     "end_time": "2025-08-14T11:15:05.891158Z",
     "start_time": "2025-08-14T11:14:58.346883Z"
    }
   },
   "cell_type": "code",
   "source": "summarize(\"https://edwarddonner.com\")",
   "id": "5ceb75b3a2a251d0",
   "outputs": [
    {
     "data": {
      "text/plain": [
       "\"### Website Summary: Edward Donner's Home Page\\n\\n#### Overview\\n\\nThis website is the personal blog of Edward Donner, a co-founder and CTO at Nebula.io, an AI startup applying LLMs to help people discover their potential. The site showcases his interests in writing code, DJing, and amateur electronic music production.\\n\\n#### Featured Topics\\n\\n* **Connect Four**: A game where users match symbols.\\n* **Outsmart Arena**: A platform featuring a battle of diplomacy and deviousness between LLMs (Large Language Models).\\n* **LLM Workshops and Courses**: Resources for learning about agentic AI engineering, becoming an LLM expert, and more.\\n\\n#### News and Announcements\\n\\n* **2025 AI Executive Briefing** (April 21, 2025): A conference or webinar on AI in the executive context.\\n* **2025 AI Executive Briefing (Follow-up)**: A separate announcement with a related follow-up on May 28, 2025, regarding connecting courses.\\n* **Connecting my courses – become an LLM expert and leader** (May 18, 2025): An announcement about upcoming online courses on LLMs.\\n* **The Complete Agentic AI Engineering Course** (January 23, 2025): A previously announced course on agentic AI engineering.\\n\\n#### Contact Information\\n\\n* Email: [ed at] edwarddonner [dot] com\\n* Website: www.edwarddonner.com\\n* Social Media Links:\\n\\t+ LinkedIn\\n\\t+ Twitter\\n\\t+ Facebook\""
      ]
     },
     "execution_count": 31,
     "metadata": {},
     "output_type": "execute_result"
    }
   ],
   "execution_count": 31
  },
  {
   "metadata": {
    "ExecuteTime": {
     "end_time": "2025-08-14T11:16:14.425324Z",
     "start_time": "2025-08-14T11:16:14.423286Z"
    }
   },
   "cell_type": "code",
   "source": [
    "def display_summary(url):\n",
    "    summary = summarize(url)\n",
    "    display(Markdown(summary))"
   ],
   "id": "1dbcb3b5eb4617c2",
   "outputs": [],
   "execution_count": 32
  },
  {
   "metadata": {
    "ExecuteTime": {
     "end_time": "2025-08-14T11:18:28.757212Z",
     "start_time": "2025-08-14T11:18:21.489136Z"
    }
   },
   "cell_type": "code",
   "source": "display_summary(\"https://edwarddonner.com\")",
   "id": "2fa9a6dbbf6eac74",
   "outputs": [
    {
     "data": {
      "text/plain": [
       "<IPython.core.display.Markdown object>"
      ],
      "text/markdown": "# Website Summary\n================\n\n### Overview\n\nThe website \"Home - Edward Donner\" appears to be a personal website of its creator, Edward Donner. It showcases his interests, skills, and work in the field of Artificial Intelligence (AI).\n\n### About Edward Donner\n\n*   **Background**: Ed is a co-founder and CTO of Nebula.io, an AI startup.\n*   **Experience**: He has founded two AI startups: untapt, which was acquired in 2021.\n\n### Recent News and Announcements\n#### Course Launch\nConnecting my courses – become an LLM expert and leader (May 28, 2025)\n\n#### Event Briefing\n2025 AI Executive Briefing\n\n#### Online Workshops\nThe Complete Agentic AI Engineering Course (January 23, 2025)\nLLM Workshop – Hands-on with Agents – resources"
     },
     "metadata": {},
     "output_type": "display_data"
    }
   ],
   "execution_count": 35
  },
  {
   "metadata": {},
   "cell_type": "code",
   "outputs": [],
   "execution_count": null,
   "source": "",
   "id": "763fba18b9668f53"
  }
 ],
 "metadata": {
  "kernelspec": {
   "display_name": "Python 3",
   "language": "python",
   "name": "python3"
  },
  "language_info": {
   "codemirror_mode": {
    "name": "ipython",
    "version": 2
   },
   "file_extension": ".py",
   "mimetype": "text/x-python",
   "name": "python",
   "nbconvert_exporter": "python",
   "pygments_lexer": "ipython2",
   "version": "2.7.6"
  }
 },
 "nbformat": 4,
 "nbformat_minor": 5
}
